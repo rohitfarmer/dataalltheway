{
 "cells": [
  {
   "cell_type": "raw",
   "id": "5d8b1c31",
   "metadata": {},
   "source": [
    "---\n",
    "title: Parametric hypothesis tests with examples in Julia\n",
    "description: A tutorial on parametric hypothesis tests with examples in Julia.\n",
    "author:\n",
    "  - name: Dhruva Sambrani\n",
    "    orcid: 0000-0001-6254-4757\n",
    "date: '2022-11-17'\n",
    "categories:\n",
    "  - How To\n",
    "  - Parametric Tests\n",
    "  - T-test\n",
    "  - Z-test\n",
    "  - F-test\n",
    "  - Julia\n",
    "format:\n",
    "  html:\n",
    "    code-fold: false\n",
    "    code-tools:\n",
    "      source: false\n",
    "      toggle: true\n",
    "citation: true\n",
    "google-scholar: true\n",
    "draft: true\n",
    "---"
   ]
  },
  {
   "cell_type": "markdown",
   "id": "153e9693",
   "metadata": {},
   "source": [
    "::: {.callout-note collapse=\"true\"}\n",
    "### Update history\n",
    "\n",
    "2022-11-17 First draft.\n",
    ":::\n",
    "\n",
    "# Introduction\n",
    "\n",
    "This article is an extension of Rohit Farmer. 2022. \"Parametric Hypothesis Tests with Examples in R.\" November 10, 2022. <https://www.dataalltheway.com/posts/010-parametric-hypothesis-tests-r> with example codes in Julia. Please check out the parent article for the theoretical background.\n",
    "\n",
    "-   Z-test (@sec-z-test)\n",
    "-   T-test (@sec-t-test)\n",
    "-   F-test (@sec-f-test)\n",
    "\n",
    "## Import packages\n"
   ]
  },
  {
   "cell_type": "code",
   "execution_count": 4,
   "id": "b2975468",
   "metadata": {},
   "outputs": [
    {
     "name": "stderr",
     "output_type": "stream",
     "text": [
      "\u001b[32m\u001b[1m  Activating\u001b[22m\u001b[39m project at `~/sandbox/dataalltheway/posts/010-01-parametric-hypothesis-tests-julia`\n"
     ]
    }
   ],
   "source": [
    "import Pkg\n",
    "Pkg.activate(\".\")\n",
    "using CSV\n",
    "using DataFrames\n",
    "using Statistics\n",
    "using HypothesisTests"
   ]
  },
  {
   "cell_type": "markdown",
   "id": "1ac025c9",
   "metadata": {},
   "source": [
    "# Getting the data\n",
    "\n",
    "Some cleaning is necessary since the data is not of the correct types.\n"
   ]
  },
  {
   "cell_type": "code",
   "execution_count": 5,
   "id": "2d47a216",
   "metadata": {},
   "outputs": [],
   "source": [
    "begin\n",
    "\tdata = CSV.read(download(\"https://raw.githubusercontent.com/opencasestudies/ocs-bp-rural-and-urban-obesity/master/data/wrangled/BMI_long.csv\"), DataFrame) # download and load\n",
    "\tallowmissing!(data, :BMI) # Allow BMI col to have missing values\n",
    "\treplace!(data.BMI, \"NA\" => missing) # Convert \"NA\" to missing\n",
    "\tdata[!, :BMI] .= passmissing(parse).(Float64, (data[!, :BMI])) # Typecast into Float64?\n",
    "end;"
   ]
  },
  {
   "cell_type": "code",
   "execution_count": 6,
   "id": "b8faa1d4",
   "metadata": {},
   "outputs": [
    {
     "data": {
      "text/html": [
       "<div><div style = \"float: left;\"><span>20×5 DataFrame</span></div><div style = \"clear: both;\"></div></div><div class = \"data-frame\" style = \"overflow-x: scroll;\"><table class = \"data-frame\" style = \"margin-bottom: 6px;\"><thead><tr class = \"header\"><th class = \"rowNumber\" style = \"font-weight: bold; text-align: right;\">Row</th><th style = \"text-align: left;\">Country</th><th style = \"text-align: left;\">Sex</th><th style = \"text-align: left;\">Region</th><th style = \"text-align: left;\">Year</th><th style = \"text-align: left;\">BMI</th></tr><tr class = \"subheader headerLastRow\"><th class = \"rowNumber\" style = \"font-weight: bold; text-align: right;\"></th><th title = \"String\" style = \"text-align: left;\">String</th><th title = \"String7\" style = \"text-align: left;\">String7</th><th title = \"String15\" style = \"text-align: left;\">String15</th><th title = \"Int64\" style = \"text-align: left;\">Int64</th><th title = \"Union{Missing, Float64}\" style = \"text-align: left;\">Float64?</th></tr></thead><tbody><tr><td class = \"rowNumber\" style = \"font-weight: bold; text-align: right;\">1</td><td style = \"text-align: left;\">Afghanistan</td><td style = \"text-align: left;\">Men</td><td style = \"text-align: left;\">National</td><td style = \"text-align: right;\">1985</td><td style = \"text-align: right;\">20.2</td></tr><tr><td class = \"rowNumber\" style = \"font-weight: bold; text-align: right;\">2</td><td style = \"text-align: left;\">Afghanistan</td><td style = \"text-align: left;\">Men</td><td style = \"text-align: left;\">Rural</td><td style = \"text-align: right;\">1985</td><td style = \"text-align: right;\">19.7</td></tr><tr><td class = \"rowNumber\" style = \"font-weight: bold; text-align: right;\">3</td><td style = \"text-align: left;\">Afghanistan</td><td style = \"text-align: left;\">Men</td><td style = \"text-align: left;\">Urban</td><td style = \"text-align: right;\">1985</td><td style = \"text-align: right;\">22.4</td></tr><tr><td class = \"rowNumber\" style = \"font-weight: bold; text-align: right;\">4</td><td style = \"text-align: left;\">Afghanistan</td><td style = \"text-align: left;\">Men</td><td style = \"text-align: left;\">National</td><td style = \"text-align: right;\">2017</td><td style = \"text-align: right;\">22.8</td></tr><tr><td class = \"rowNumber\" style = \"font-weight: bold; text-align: right;\">5</td><td style = \"text-align: left;\">Afghanistan</td><td style = \"text-align: left;\">Men</td><td style = \"text-align: left;\">Rural</td><td style = \"text-align: right;\">2017</td><td style = \"text-align: right;\">22.5</td></tr><tr><td class = \"rowNumber\" style = \"font-weight: bold; text-align: right;\">6</td><td style = \"text-align: left;\">Afghanistan</td><td style = \"text-align: left;\">Men</td><td style = \"text-align: left;\">Urban</td><td style = \"text-align: right;\">2017</td><td style = \"text-align: right;\">23.6</td></tr><tr><td class = \"rowNumber\" style = \"font-weight: bold; text-align: right;\">7</td><td style = \"text-align: left;\">Afghanistan</td><td style = \"text-align: left;\">Women</td><td style = \"text-align: left;\">National</td><td style = \"text-align: right;\">1985</td><td style = \"text-align: right;\">20.6</td></tr><tr><td class = \"rowNumber\" style = \"font-weight: bold; text-align: right;\">8</td><td style = \"text-align: left;\">Afghanistan</td><td style = \"text-align: left;\">Women</td><td style = \"text-align: left;\">Rural</td><td style = \"text-align: right;\">1985</td><td style = \"text-align: right;\">20.1</td></tr><tr><td class = \"rowNumber\" style = \"font-weight: bold; text-align: right;\">9</td><td style = \"text-align: left;\">Afghanistan</td><td style = \"text-align: left;\">Women</td><td style = \"text-align: left;\">Urban</td><td style = \"text-align: right;\">1985</td><td style = \"text-align: right;\">23.2</td></tr><tr><td class = \"rowNumber\" style = \"font-weight: bold; text-align: right;\">10</td><td style = \"text-align: left;\">Afghanistan</td><td style = \"text-align: left;\">Women</td><td style = \"text-align: left;\">National</td><td style = \"text-align: right;\">2017</td><td style = \"text-align: right;\">24.4</td></tr><tr><td class = \"rowNumber\" style = \"font-weight: bold; text-align: right;\">11</td><td style = \"text-align: left;\">Afghanistan</td><td style = \"text-align: left;\">Women</td><td style = \"text-align: left;\">Rural</td><td style = \"text-align: right;\">2017</td><td style = \"text-align: right;\">23.6</td></tr><tr><td class = \"rowNumber\" style = \"font-weight: bold; text-align: right;\">12</td><td style = \"text-align: left;\">Afghanistan</td><td style = \"text-align: left;\">Women</td><td style = \"text-align: left;\">Urban</td><td style = \"text-align: right;\">2017</td><td style = \"text-align: right;\">26.3</td></tr><tr><td class = \"rowNumber\" style = \"font-weight: bold; text-align: right;\">13</td><td style = \"text-align: left;\">Albania</td><td style = \"text-align: left;\">Men</td><td style = \"text-align: left;\">National</td><td style = \"text-align: right;\">1985</td><td style = \"text-align: right;\">25.2</td></tr><tr><td class = \"rowNumber\" style = \"font-weight: bold; text-align: right;\">14</td><td style = \"text-align: left;\">Albania</td><td style = \"text-align: left;\">Men</td><td style = \"text-align: left;\">Rural</td><td style = \"text-align: right;\">1985</td><td style = \"text-align: right;\">25.0</td></tr><tr><td class = \"rowNumber\" style = \"font-weight: bold; text-align: right;\">15</td><td style = \"text-align: left;\">Albania</td><td style = \"text-align: left;\">Men</td><td style = \"text-align: left;\">Urban</td><td style = \"text-align: right;\">1985</td><td style = \"text-align: right;\">25.4</td></tr><tr><td class = \"rowNumber\" style = \"font-weight: bold; text-align: right;\">16</td><td style = \"text-align: left;\">Albania</td><td style = \"text-align: left;\">Men</td><td style = \"text-align: left;\">National</td><td style = \"text-align: right;\">2017</td><td style = \"text-align: right;\">27.0</td></tr><tr><td class = \"rowNumber\" style = \"font-weight: bold; text-align: right;\">17</td><td style = \"text-align: left;\">Albania</td><td style = \"text-align: left;\">Men</td><td style = \"text-align: left;\">Rural</td><td style = \"text-align: right;\">2017</td><td style = \"text-align: right;\">26.9</td></tr><tr><td class = \"rowNumber\" style = \"font-weight: bold; text-align: right;\">18</td><td style = \"text-align: left;\">Albania</td><td style = \"text-align: left;\">Men</td><td style = \"text-align: left;\">Urban</td><td style = \"text-align: right;\">2017</td><td style = \"text-align: right;\">27.0</td></tr><tr><td class = \"rowNumber\" style = \"font-weight: bold; text-align: right;\">19</td><td style = \"text-align: left;\">Albania</td><td style = \"text-align: left;\">Women</td><td style = \"text-align: left;\">National</td><td style = \"text-align: right;\">1985</td><td style = \"text-align: right;\">26.0</td></tr><tr><td class = \"rowNumber\" style = \"font-weight: bold; text-align: right;\">20</td><td style = \"text-align: left;\">Albania</td><td style = \"text-align: left;\">Women</td><td style = \"text-align: left;\">Rural</td><td style = \"text-align: right;\">1985</td><td style = \"text-align: right;\">26.1</td></tr></tbody></table></div>"
      ],
      "text/latex": [
       "\\begin{tabular}{r|ccccc}\n",
       "\t& Country & Sex & Region & Year & BMI\\\\\n",
       "\t\\hline\n",
       "\t& String & String7 & String15 & Int64 & Float64?\\\\\n",
       "\t\\hline\n",
       "\t1 & Afghanistan & Men & National & 1985 & 20.2 \\\\\n",
       "\t2 & Afghanistan & Men & Rural & 1985 & 19.7 \\\\\n",
       "\t3 & Afghanistan & Men & Urban & 1985 & 22.4 \\\\\n",
       "\t4 & Afghanistan & Men & National & 2017 & 22.8 \\\\\n",
       "\t5 & Afghanistan & Men & Rural & 2017 & 22.5 \\\\\n",
       "\t6 & Afghanistan & Men & Urban & 2017 & 23.6 \\\\\n",
       "\t7 & Afghanistan & Women & National & 1985 & 20.6 \\\\\n",
       "\t8 & Afghanistan & Women & Rural & 1985 & 20.1 \\\\\n",
       "\t9 & Afghanistan & Women & Urban & 1985 & 23.2 \\\\\n",
       "\t10 & Afghanistan & Women & National & 2017 & 24.4 \\\\\n",
       "\t11 & Afghanistan & Women & Rural & 2017 & 23.6 \\\\\n",
       "\t12 & Afghanistan & Women & Urban & 2017 & 26.3 \\\\\n",
       "\t13 & Albania & Men & National & 1985 & 25.2 \\\\\n",
       "\t14 & Albania & Men & Rural & 1985 & 25.0 \\\\\n",
       "\t15 & Albania & Men & Urban & 1985 & 25.4 \\\\\n",
       "\t16 & Albania & Men & National & 2017 & 27.0 \\\\\n",
       "\t17 & Albania & Men & Rural & 2017 & 26.9 \\\\\n",
       "\t18 & Albania & Men & Urban & 2017 & 27.0 \\\\\n",
       "\t19 & Albania & Women & National & 1985 & 26.0 \\\\\n",
       "\t20 & Albania & Women & Rural & 1985 & 26.1 \\\\\n",
       "\\end{tabular}\n"
      ],
      "text/plain": [
       "\u001b[1m20×5 DataFrame\u001b[0m\n",
       "\u001b[1m Row \u001b[0m│\u001b[1m Country     \u001b[0m\u001b[1m Sex     \u001b[0m\u001b[1m Region   \u001b[0m\u001b[1m Year  \u001b[0m\u001b[1m BMI      \u001b[0m\n",
       "     │\u001b[90m String      \u001b[0m\u001b[90m String7 \u001b[0m\u001b[90m String15 \u001b[0m\u001b[90m Int64 \u001b[0m\u001b[90m Float64? \u001b[0m\n",
       "─────┼─────────────────────────────────────────────────\n",
       "   1 │ Afghanistan  Men      National   1985      20.2\n",
       "   2 │ Afghanistan  Men      Rural      1985      19.7\n",
       "   3 │ Afghanistan  Men      Urban      1985      22.4\n",
       "   4 │ Afghanistan  Men      National   2017      22.8\n",
       "   5 │ Afghanistan  Men      Rural      2017      22.5\n",
       "   6 │ Afghanistan  Men      Urban      2017      23.6\n",
       "   7 │ Afghanistan  Women    National   1985      20.6\n",
       "   8 │ Afghanistan  Women    Rural      1985      20.1\n",
       "   9 │ Afghanistan  Women    Urban      1985      23.2\n",
       "  10 │ Afghanistan  Women    National   2017      24.4\n",
       "  11 │ Afghanistan  Women    Rural      2017      23.6\n",
       "  12 │ Afghanistan  Women    Urban      2017      26.3\n",
       "  13 │ Albania      Men      National   1985      25.2\n",
       "  14 │ Albania      Men      Rural      1985      25.0\n",
       "  15 │ Albania      Men      Urban      1985      25.4\n",
       "  16 │ Albania      Men      National   2017      27.0\n",
       "  17 │ Albania      Men      Rural      2017      26.9\n",
       "  18 │ Albania      Men      Urban      2017      27.0\n",
       "  19 │ Albania      Women    National   1985      26.0\n",
       "  20 │ Albania      Women    Rural      1985      26.1"
      ]
     },
     "execution_count": 6,
     "metadata": {},
     "output_type": "execute_result"
    }
   ],
   "source": [
    "first(data, 20)"
   ]
  },
  {
   "cell_type": "markdown",
   "id": "381fca47",
   "metadata": {},
   "source": [
    "# Z-test {#sec-z-test}\n",
    "\n",
    "## Two sample unpaired z-test\n"
   ]
  },
  {
   "cell_type": "code",
   "execution_count": 7,
   "id": "4d7b4f72",
   "metadata": {},
   "outputs": [
    {
     "data": {
      "text/plain": [
       "Two sample z-test (unequal variance)\n",
       "------------------------------------\n",
       "Population details:\n",
       "    parameter of interest:   Mean difference\n",
       "    value under h_0:         0\n",
       "    point estimate:          -2.45267\n",
       "    95% confidence interval: (-2.89, -2.015)\n",
       "\n",
       "Test summary:\n",
       "    outcome with 95% confidence: reject h_0\n",
       "    two-sided p-value:           <1e-27\n",
       "\n",
       "Details:\n",
       "    number of observations:   [300,300]\n",
       "    z-statistic:              -10.98012310638998\n",
       "    population standard error: 0.2233733304173345\n"
      ]
     },
     "execution_count": 7,
     "metadata": {},
     "output_type": "execute_result"
    }
   ],
   "source": [
    "uneqvarztest = let\n",
    "\t# Fetch a random sample of BMI data for women in the year 1985 and 2017\n",
    "\tx1 = filter([:Sex, :Year] => (s, y) -> s==\"Women\" && y==1985 , data) |>\n",
    "\t\tx -> x[!, :BMI] |> skipmissing |> collect |> x->rand(x, 300)\n",
    "\tx2 = filter([:Sex, :Year] => (s, y) -> s==\"Women\" && y==2017 , data) |>\n",
    "\t\tx -> x[!, :BMI] |> skipmissing |> collect |> x->rand(x, 300)\n",
    "\tUnequalVarianceZTest(x1, x2)\n",
    "end"
   ]
  },
  {
   "cell_type": "markdown",
   "id": "132ccef8",
   "metadata": {},
   "source": [
    "## Two sample paired z-test\n"
   ]
  },
  {
   "cell_type": "code",
   "execution_count": 8,
   "id": "a4ad0e8e",
   "metadata": {},
   "outputs": [
    {
     "data": {
      "text/plain": [
       "Two sample z-test (equal variance)\n",
       "----------------------------------\n",
       "Population details:\n",
       "    parameter of interest:   Mean difference\n",
       "    value under h_0:         0\n",
       "    point estimate:          -2.66433\n",
       "    95% confidence interval: (-3.077, -2.251)\n",
       "\n",
       "Test summary:\n",
       "    outcome with 95% confidence: reject h_0\n",
       "    two-sided p-value:           <1e-35\n",
       "\n",
       "Details:\n",
       "    number of observations:   [300,300]\n",
       "    z-statistic:              -12.646344239797454\n",
       "    population standard error: 0.21068012089602933\n"
      ]
     },
     "execution_count": 8,
     "metadata": {},
     "output_type": "execute_result"
    }
   ],
   "source": [
    "eqvarztest = let\n",
    "\t# Fetch a random sample of BMI data for women in the year 1985 and 2017\n",
    "\tx1 = filter([:Sex, :Year] => (s, y) -> s==\"Women\" && y==1985 , data) |>\n",
    "\t\tx -> x[!, :BMI] |> skipmissing |> collect |> x->rand(x, 300)\n",
    "\tx2 = filter([:Sex, :Year] => (s, y) -> s==\"Women\" && y==2017 , data) |>\n",
    "\t\tx -> x[!, :BMI] |> skipmissing |> collect |> x->rand(x, 300)\n",
    "\tEqualVarianceZTest(x1, x2)\n",
    "end"
   ]
  },
  {
   "cell_type": "markdown",
   "id": "41c30a6a",
   "metadata": {},
   "source": [
    "# T-test{#sec-t-test}\n",
    "\n",
    "## One sample t-test\n"
   ]
  },
  {
   "cell_type": "code",
   "execution_count": 9,
   "id": "e8dcd8c1",
   "metadata": {},
   "outputs": [
    {
     "data": {
      "text/plain": [
       "One sample t-test\n",
       "-----------------\n",
       "Population details:\n",
       "    parameter of interest:   Mean\n",
       "    value under h_0:         24.5\n",
       "    point estimate:          25.142\n",
       "    95% confidence interval: (24.84, 25.44)\n",
       "\n",
       "Test summary:\n",
       "    outcome with 95% confidence: reject h_0\n",
       "    two-sided p-value:           <1e-04\n",
       "\n",
       "Details:\n",
       "    number of observations:   300\n",
       "    t-statistic:              4.19927592137962\n",
       "    degrees of freedom:       299\n",
       "    empirical standard error: 0.15288349992231\n"
      ]
     },
     "execution_count": 9,
     "metadata": {},
     "output_type": "execute_result"
    }
   ],
   "source": [
    "onesamplettest = let \n",
    "\tx1 = filter(\n",
    "\t\t[:Sex, :Region, :Year] => \n",
    "\t\t\t(s, r, y) -> s==\"Men\" && r==\"Rural\" && y == 2017,\n",
    "\t\tdata\n",
    "\t) |>\n",
    "\tx -> x[!, :BMI] |> skipmissing |> collect |> x->rand(x, 300)\n",
    "\tOneSampleTTest(x1, 24.5)\n",
    "end"
   ]
  },
  {
   "cell_type": "markdown",
   "id": "b469270a",
   "metadata": {},
   "source": [
    "## Two sample unpaired (independent) t-test\n"
   ]
  },
  {
   "cell_type": "code",
   "execution_count": 10,
   "id": "9a1fe9b1",
   "metadata": {},
   "outputs": [
    {
     "data": {
      "text/plain": [
       "Two sample t-test (unequal variance)\n",
       "------------------------------------\n",
       "Population details:\n",
       "    parameter of interest:   Mean difference\n",
       "    value under h_0:         0\n",
       "    point estimate:          -1.04333\n",
       "    95% confidence interval: (-1.491, -0.5958)\n",
       "\n",
       "Test summary:\n",
       "    outcome with 95% confidence: reject h_0\n",
       "    two-sided p-value:           <1e-05\n",
       "\n",
       "Details:\n",
       "    number of observations:   [300,300]\n",
       "    t-statistic:              -4.579077347889367\n",
       "    degrees of freedom:       584.0098943512115\n",
       "    empirical standard error: 0.22784793836562495\n"
      ]
     },
     "execution_count": 10,
     "metadata": {},
     "output_type": "execute_result"
    }
   ],
   "source": [
    "unpairedtwosamplettest = let \n",
    "    x1 = filter([:Sex, :Region, :Year] => \n",
    "            (s, r, y) -> s==\"Women\" && r==\"Rural\" && y == 1985,\n",
    "        data) |>\n",
    "        x -> x[!, :BMI] |> skipmissing |> collect |> x->rand(x, 300)\n",
    "    x2 = filter([:Sex, :Region, :Year] => \n",
    "            (s, r, y) -> s==\"Women\" && r==\"Urban\" && y == 1985,\n",
    "        data) |>\n",
    "        x -> x[!, :BMI] |> skipmissing |> collect |> x->rand(x, 300)\n",
    "    x -> x[!, :BMI] |> skipmissing |> collect |> x->rand(x, 300)\n",
    "    UnequalVarianceTTest(x1, x2)\n",
    "end"
   ]
  },
  {
   "cell_type": "markdown",
   "id": "d34252ab",
   "metadata": {},
   "source": [
    "::: callout-warning\n",
    "## Welch's Test\n",
    "\n",
    "This test uses the Welch correction, and there is no way to turn it off in `HypothesisTests.jl`.\n",
    ":::\n",
    "\n",
    "### Only considering right tailed (one-tailed)\n"
   ]
  },
  {
   "cell_type": "code",
   "execution_count": 11,
   "id": "7d5f674b",
   "metadata": {},
   "outputs": [
    {
     "data": {
      "text/plain": [
       "0.9999995678106779"
      ]
     },
     "execution_count": 11,
     "metadata": {},
     "output_type": "execute_result"
    }
   ],
   "source": [
    "unpairedtwosamplettest = let \n",
    "\tx1 = filter([:Sex, :Region, :Year] => \n",
    "\t\t\t(s, r, y) -> s==\"Women\" && r==\"Rural\" && y == 1985,\n",
    "\t\tdata) |>\n",
    "\t\tx -> x[!, :BMI] |> skipmissing |> collect |> x->rand(x, 300)\n",
    "\tx2 = filter([:Sex, :Region, :Year] => \n",
    "\t\t\t(s, r, y) -> s==\"Women\" && r==\"Urban\" && y == 1985,\n",
    "\t\tdata) |>\n",
    "\t\tx -> x[!, :BMI] |> skipmissing |> collect |> x->rand(x, 300)\n",
    "\tx -> x[!, :BMI] |> skipmissing |> collect |> x->rand(x, 300)\n",
    "\tUnequalVarianceTTest(x1, x2)\n",
    "end\n",
    "pvalue(unpairedtwosamplettest, tail=:right)"
   ]
  },
  {
   "cell_type": "markdown",
   "id": "2a1049d7",
   "metadata": {},
   "source": [
    "## Two sample paired (dependent) t-test\n"
   ]
  },
  {
   "cell_type": "code",
   "execution_count": 12,
   "id": "57a75baf",
   "metadata": {},
   "outputs": [
    {
     "data": {
      "text/plain": [
       "Two sample t-test (equal variance)\n",
       "----------------------------------\n",
       "Population details:\n",
       "    parameter of interest:   Mean difference\n",
       "    value under h_0:         0\n",
       "    point estimate:          -1.10067\n",
       "    95% confidence interval: (-1.515, -0.6868)\n",
       "\n",
       "Test summary:\n",
       "    outcome with 95% confidence: reject h_0\n",
       "    two-sided p-value:           <1e-06\n",
       "\n",
       "Details:\n",
       "    number of observations:   [300,300]\n",
       "    t-statistic:              -5.223181810509686\n",
       "    degrees of freedom:       598\n",
       "    empirical standard error: 0.21072723611726182\n"
      ]
     },
     "execution_count": 12,
     "metadata": {},
     "output_type": "execute_result"
    }
   ],
   "source": [
    "pairedtwosamplettest = let \n",
    "\tx1 = filter([:Sex, :Region, :Year] => \n",
    "\t\t\t(s, r, y) -> s==\"Women\" && r==\"Rural\" && y == 1985,\n",
    "\t\tdata) |>\n",
    "\t\tx -> x[!, :BMI] |> skipmissing |> collect |> x->rand(x, 300)\n",
    "\tx2 = filter([:Sex, :Region, :Year] => \n",
    "\t\t\t(s, r, y) -> s==\"Women\" && r==\"Urban\" && y == 1985,\n",
    "\t\tdata) |>\n",
    "\t\tx -> x[!, :BMI] |> skipmissing |> collect |> x->rand(x, 300)\n",
    "\tx -> x[!, :BMI] |> skipmissing |> collect |> x->rand(x, 300)\n",
    "\tEqualVarianceTTest(x1, x2)\n",
    "end"
   ]
  },
  {
   "cell_type": "markdown",
   "id": "31d00f25",
   "metadata": {},
   "source": [
    "# F-test{#sec-f-test}\n"
   ]
  },
  {
   "cell_type": "code",
   "execution_count": 13,
   "id": "3f047a02",
   "metadata": {},
   "outputs": [
    {
     "data": {
      "text/plain": [
       "Variance F-test\n",
       "---------------\n",
       "Population details:\n",
       "    parameter of interest:   variance ratio\n",
       "    value under h_0:         1.0\n",
       "    point estimate:          1.54765\n",
       "\n",
       "Test summary:\n",
       "    outcome with 95% confidence: reject h_0\n",
       "    two-sided p-value:           0.0002\n",
       "\n",
       "Details:\n",
       "    number of observations: [300, 300]\n",
       "    F statistic:            1.5476495641893069\n",
       "    degrees of freedom:     [299, 299]\n"
      ]
     },
     "execution_count": 13,
     "metadata": {},
     "output_type": "execute_result"
    }
   ],
   "source": [
    "Ftest = let \n",
    "\tx1 = filter([:Sex, :Region, :Year] => \n",
    "\t\t\t(s, r, y) -> s==\"Women\" && r==\"Rural\" && y == 1985,\n",
    "\t\tdata) |>\n",
    "\t\tx -> x[!, :BMI] |> skipmissing |> collect |> x->rand(x, 300)\n",
    "\tx2 = filter([:Sex, :Region, :Year] => \n",
    "\t\t\t(s, r, y) -> s==\"Women\" && r==\"Urban\" && y == 1985,\n",
    "\t\tdata) |>\n",
    "\t\tx -> x[!, :BMI] |> skipmissing |> collect |> x->rand(x, 300)\n",
    "\tx -> x[!, :BMI] |> skipmissing |> collect |> x->rand(x, 300)\n",
    "\tVarianceFTest(x1, x2)\n",
    "end"
   ]
  },
  {
   "cell_type": "code",
   "execution_count": null,
   "id": "89db1b25",
   "metadata": {},
   "outputs": [],
   "source": []
  }
 ],
 "metadata": {
  "kernelspec": {
   "display_name": "Julia 1.8.2",
   "language": "julia",
   "name": "julia-1.8"
  },
  "language_info": {
   "file_extension": ".jl",
   "mimetype": "application/julia",
   "name": "julia",
   "version": "1.8.2"
  }
 },
 "nbformat": 4,
 "nbformat_minor": 5
}
